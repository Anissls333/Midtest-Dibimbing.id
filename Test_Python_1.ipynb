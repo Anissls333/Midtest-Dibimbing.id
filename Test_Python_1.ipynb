{
  "nbformat": 4,
  "nbformat_minor": 5,
  "metadata": {
    "kernelspec": {
      "display_name": "Python 3",
      "language": "python",
      "name": "python3"
    },
    "language_info": {
      "codemirror_mode": {
        "name": "ipython",
        "version": 3
      },
      "file_extension": ".py",
      "mimetype": "text/x-python",
      "name": "python",
      "nbconvert_exporter": "python",
      "pygments_lexer": "ipython3",
      "version": "3.7.0"
    },
    "colab": {
      "provenance": []
    }
  },
  "cells": [
    {
      "cell_type": "markdown",
      "metadata": {
        "id": "87919d68"
      },
      "source": [
        "### Python 1 : Who is in the third place?"
      ],
      "id": "87919d68"
    },
    {
      "cell_type": "markdown",
      "metadata": {
        "id": "c061c30a"
      },
      "source": [
        "### Task"
      ],
      "id": "c061c30a"
    },
    {
      "cell_type": "markdown",
      "metadata": {
        "id": "66fcf833"
      },
      "source": [
        "Create a function whose name is ```third_place``` that does the following:\n",
        "\n",
        "Given a list of test score and a list of participants name. The desired output would be the name of the participant who gets the 3rd best score. The rule of determining the order of the best score is as follows:\n",
        "- Higher score is better\n",
        "- In case of multiple participants having the same test score, they can occupy the same ranking value. For example, if 2 participants scored 100, then both of them occupy the first place.\n",
        "\n",
        "The first input of the function is the name list, and the second input to the function is the score list."
      ],
      "id": "66fcf833"
    },
    {
      "cell_type": "markdown",
      "metadata": {
        "id": "aee24374"
      },
      "source": [
        "### Example 1:\n",
        "\n",
        "**Input**:\n",
        "- names = [Andi, Budi, Charlie, Dilan, Echa]\n",
        "- score = [80, 90, 95, 100, 85]\n",
        "\n",
        "This means, Andi gets 80, Budi gets 90, Charlie gets 95, Dilan gets 100, and Echa gets 85. The first best score is 100, and Dilan gets it. The second best score is 95, and Charlie gets it. The third best score is 90, and Budi gets it. So, our output should be Budi.\n",
        "\n",
        "**Output**: 'The third winner: Budi'.\n",
        "\n",
        "When we run ```third_place(names, score)```, the output will be 'The third winner: Budi'."
      ],
      "id": "aee24374"
    },
    {
      "cell_type": "markdown",
      "metadata": {
        "id": "e85af386"
      },
      "source": [
        "### Example 2:\n",
        "\n",
        "**Input**:\n",
        "- names = [Andi, Budi, Charlie, Dilan, Echa]\n",
        "- score = [80, 80, 80, 100, 90]\n",
        "\n",
        "This means, Andi, Budi, and Charlie gets 80, Dilan gets 100, and Echa gets 90. The third best score is 80, and our output should list ALL of the participants who get 80.\n",
        "\n",
        "**Output**: 'The third winner: Andi, Budi, Charlie'.\n",
        "\n",
        "When we run ```third_place(names, score)```, the output will be 'The third winner: Andi, Budi, Charlie'."
      ],
      "id": "e85af386"
    },
    {
      "cell_type": "markdown",
      "metadata": {
        "id": "bbeb3f41"
      },
      "source": [
        "### Example 3:\n",
        "\n",
        "**Input**:\n",
        "- names = [Andi, Budi, Charlie, Dilan, Echa, Fanya]\n",
        "- score = [80, 90, 90, 100, 100, 80]\n",
        "\n",
        "The first best score (first winner) is 100 - Dilan and Echa shared this position. The second best score (second winner) is 90 - Budi and Charlie shared this position. The third best score (third winner) is 80, and it is shared by Andi and Fanya. So, our output should be Andi and Fanya.\n",
        "\n",
        "**Output**: 'The third winner: Andi, Fanya'."
      ],
      "id": "bbeb3f41"
    },
    {
      "cell_type": "markdown",
      "metadata": {
        "id": "8306d027"
      },
      "source": [
        "### Space for Work"
      ],
      "id": "8306d027"
    },
    {
      "cell_type": "code",
      "source": [
        "def third_place(names, score):\n",
        "    data = list(zip(names, score)) # Menggabungkan names dan score menjadi tuple\n",
        "    data.sort(key=lambda x: x[1], reverse=True) # Mengurutkan data dari tinggi ke rendah (descending) -> Menggunakan reverse True\n",
        "\n",
        "    # Menghitung jumlah peserta dengan nilai tertinggi pertama dan kedua\n",
        "    win_1 = 0\n",
        "    win_2 = 0\n",
        "    for i in range(len(data)):\n",
        "        if data[i][1] == data[0][1]:  # Nilai tertinggi pertama\n",
        "            win_1 += 1\n",
        "        elif data[i][1] == data[win_1][1]:  # Nilai tertinggi kedua\n",
        "            win_2 += 1\n",
        "        else:\n",
        "            break\n",
        "\n",
        "    # Peserta yang mendapat nilai terbaik ke-3\n",
        "    win_3 = []\n",
        "    for j in range(win_1 + win_2, len(data)):\n",
        "        if data[j][1] == data[win_1 + win_2][1]:\n",
        "            win_3.append(data[j][0])\n",
        "        else:\n",
        "            break\n",
        "\n",
        "    # Output\n",
        "    output = \"The third winner: \" + \", \".join(win_3)\n",
        "    return output\n"
      ],
      "metadata": {
        "id": "idobXVioozkj"
      },
      "id": "idobXVioozkj",
      "execution_count": 2,
      "outputs": []
    },
    {
      "cell_type": "code",
      "source": [
        "# Contoh 1\n",
        "names1 = ['Andi', 'Budi', 'Charlie', 'Dilan', 'Echa']\n",
        "score1 = [80, 90, 95, 100, 85]\n",
        "print(third_place(names1, score1))\n",
        "\n",
        "# Contoh 2\n",
        "names2 = ['Andi', 'Budi', 'Charlie', 'Dilan', 'Echa']\n",
        "score2 = [80, 80, 80, 100, 90]\n",
        "print(third_place(names2, score2))\n",
        "\n",
        "# Contoh 3\n",
        "names3 = ['Andi', 'Budi', 'Charlie', 'Dilan', 'Echa', 'Fanya']\n",
        "score3 = [80, 90, 90, 100, 100, 80]\n",
        "print(third_place(names3, score3))  # Output: 'Pemenang ketiga: Andi, Fanya'"
      ],
      "metadata": {
        "colab": {
          "base_uri": "https://localhost:8080/"
        },
        "id": "9zdP-_nRoCF9",
        "outputId": "e8a8d2ca-924e-4ec9-cf1e-04ead5afc0f5"
      },
      "id": "9zdP-_nRoCF9",
      "execution_count": 5,
      "outputs": [
        {
          "output_type": "stream",
          "name": "stdout",
          "text": [
            "The third winner: Budi\n",
            "The third winner: Andi, Budi, Charlie\n",
            "The third winner: Andi, Fanya\n"
          ]
        }
      ]
    }
  ]
}